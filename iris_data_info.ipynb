{
    "cells": [
        {
            "cell_type": "code",
            "execution_count": 1,
            "metadata": {},
            "outputs": [],
            "source": [
                "import pandas as pd\n",
                "import matplotlib.pyplot as plt"
            ]
        },
        {
            "cell_type": "code",
            "execution_count": 2,
            "metadata": {},
            "outputs": [],
            "source": [
                "y = pd.read_csv(r\"your iris directory\", sep=\";\", decimal=\",\")"
            ]
        },
        {
            "cell_type": "code",
            "execution_count": 3,
            "metadata": {},
            "outputs": [],
            "source": [
                "y.rename(columns={\"Sepal.Length\":\"ComprimentoS\",\n",
                " \"Sepal.Width\":\"LarguraS\", \"Petal.Length\":\"ComprimentoP\",\"Petal.Width\":\"LarguraP\", \"Species\":\"Especie\"}, inplace=True)"
            ]
        },
        {
            "cell_type": "code",
            "execution_count": 4,
            "metadata": {},
            "outputs": [
                {
                    "data": {
                        "text/plain": [
                            "virginica     50\n",
                            "setosa        50\n",
                            "versicolor    50\n",
                            "Name: Especie, dtype: int64"
                        ]
                    },
                    "execution_count": 4,
                    "metadata": {},
                    "output_type": "execute_result"
                }
            ],
            "source": [
                "especie = y['Especie']\n",
                "especie.value_counts()"
            ]
        },
        {
            "cell_type": "code",
            "execution_count": 5,
            "metadata": {},
            "outputs": [
                {
                    "data": {
                        "text/html": [
                            "<div>\n",
                            "<style scoped>\n",
                            "    .dataframe tbody tr th:only-of-type {\n",
                            "        vertical-align: middle;\n",
                            "    }\n",
                            "\n",
                            "    .dataframe tbody tr th {\n",
                            "        vertical-align: top;\n",
                            "    }\n",
                            "\n",
                            "    .dataframe thead th {\n",
                            "        text-align: right;\n",
                            "    }\n",
                            "</style>\n",
                            "<table border=\"1\" class=\"dataframe\">\n",
                            "  <thead>\n",
                            "    <tr style=\"text-align: right;\">\n",
                            "      <th></th>\n",
                            "      <th>ComprimentoS</th>\n",
                            "      <th>LarguraS</th>\n",
                            "      <th>ComprimentoP</th>\n",
                            "      <th>LarguraP</th>\n",
                            "    </tr>\n",
                            "  </thead>\n",
                            "  <tbody>\n",
                            "    <tr>\n",
                            "      <th>count</th>\n",
                            "      <td>50.00000</td>\n",
                            "      <td>50.000000</td>\n",
                            "      <td>50.000000</td>\n",
                            "      <td>50.000000</td>\n",
                            "    </tr>\n",
                            "    <tr>\n",
                            "      <th>mean</th>\n",
                            "      <td>5.00600</td>\n",
                            "      <td>3.428000</td>\n",
                            "      <td>1.462000</td>\n",
                            "      <td>0.246000</td>\n",
                            "    </tr>\n",
                            "    <tr>\n",
                            "      <th>std</th>\n",
                            "      <td>0.35249</td>\n",
                            "      <td>0.379064</td>\n",
                            "      <td>0.173664</td>\n",
                            "      <td>0.105386</td>\n",
                            "    </tr>\n",
                            "    <tr>\n",
                            "      <th>min</th>\n",
                            "      <td>4.30000</td>\n",
                            "      <td>2.300000</td>\n",
                            "      <td>1.000000</td>\n",
                            "      <td>0.100000</td>\n",
                            "    </tr>\n",
                            "    <tr>\n",
                            "      <th>25%</th>\n",
                            "      <td>4.80000</td>\n",
                            "      <td>3.200000</td>\n",
                            "      <td>1.400000</td>\n",
                            "      <td>0.200000</td>\n",
                            "    </tr>\n",
                            "    <tr>\n",
                            "      <th>50%</th>\n",
                            "      <td>5.00000</td>\n",
                            "      <td>3.400000</td>\n",
                            "      <td>1.500000</td>\n",
                            "      <td>0.200000</td>\n",
                            "    </tr>\n",
                            "    <tr>\n",
                            "      <th>75%</th>\n",
                            "      <td>5.20000</td>\n",
                            "      <td>3.675000</td>\n",
                            "      <td>1.575000</td>\n",
                            "      <td>0.300000</td>\n",
                            "    </tr>\n",
                            "    <tr>\n",
                            "      <th>max</th>\n",
                            "      <td>5.80000</td>\n",
                            "      <td>4.400000</td>\n",
                            "      <td>1.900000</td>\n",
                            "      <td>0.600000</td>\n",
                            "    </tr>\n",
                            "  </tbody>\n",
                            "</table>\n",
                            "</div>"
                        ],
                        "text/plain": [
                            "       ComprimentoS   LarguraS  ComprimentoP   LarguraP\n",
                            "count      50.00000  50.000000     50.000000  50.000000\n",
                            "mean        5.00600   3.428000      1.462000   0.246000\n",
                            "std         0.35249   0.379064      0.173664   0.105386\n",
                            "min         4.30000   2.300000      1.000000   0.100000\n",
                            "25%         4.80000   3.200000      1.400000   0.200000\n",
                            "50%         5.00000   3.400000      1.500000   0.200000\n",
                            "75%         5.20000   3.675000      1.575000   0.300000\n",
                            "max         5.80000   4.400000      1.900000   0.600000"
                        ]
                    },
                    "execution_count": 5,
                    "metadata": {},
                    "output_type": "execute_result"
                }
            ],
            "source": [
                "sy = y.loc[y[\"Especie\"]==\"setosa\"]\n",
                "tabela1 = sy.describe()\n",
                "tabela1"
            ]
        },
        {
            "cell_type": "code",
            "execution_count": 6,
            "metadata": {},
            "outputs": [
                {
                    "data": {
                        "text/html": [
                            "<div>\n",
                            "<style scoped>\n",
                            "    .dataframe tbody tr th:only-of-type {\n",
                            "        vertical-align: middle;\n",
                            "    }\n",
                            "\n",
                            "    .dataframe tbody tr th {\n",
                            "        vertical-align: top;\n",
                            "    }\n",
                            "\n",
                            "    .dataframe thead th {\n",
                            "        text-align: right;\n",
                            "    }\n",
                            "</style>\n",
                            "<table border=\"1\" class=\"dataframe\">\n",
                            "  <thead>\n",
                            "    <tr style=\"text-align: right;\">\n",
                            "      <th></th>\n",
                            "      <th>ComprimentoS</th>\n",
                            "      <th>LarguraS</th>\n",
                            "      <th>ComprimentoP</th>\n",
                            "      <th>LarguraP</th>\n",
                            "    </tr>\n",
                            "  </thead>\n",
                            "  <tbody>\n",
                            "    <tr>\n",
                            "      <th>count</th>\n",
                            "      <td>50.00000</td>\n",
                            "      <td>50.000000</td>\n",
                            "      <td>50.000000</td>\n",
                            "      <td>50.00000</td>\n",
                            "    </tr>\n",
                            "    <tr>\n",
                            "      <th>mean</th>\n",
                            "      <td>6.58800</td>\n",
                            "      <td>2.974000</td>\n",
                            "      <td>5.552000</td>\n",
                            "      <td>2.02600</td>\n",
                            "    </tr>\n",
                            "    <tr>\n",
                            "      <th>std</th>\n",
                            "      <td>0.63588</td>\n",
                            "      <td>0.322497</td>\n",
                            "      <td>0.551895</td>\n",
                            "      <td>0.27465</td>\n",
                            "    </tr>\n",
                            "    <tr>\n",
                            "      <th>min</th>\n",
                            "      <td>4.90000</td>\n",
                            "      <td>2.200000</td>\n",
                            "      <td>4.500000</td>\n",
                            "      <td>1.40000</td>\n",
                            "    </tr>\n",
                            "    <tr>\n",
                            "      <th>25%</th>\n",
                            "      <td>6.22500</td>\n",
                            "      <td>2.800000</td>\n",
                            "      <td>5.100000</td>\n",
                            "      <td>1.80000</td>\n",
                            "    </tr>\n",
                            "    <tr>\n",
                            "      <th>50%</th>\n",
                            "      <td>6.50000</td>\n",
                            "      <td>3.000000</td>\n",
                            "      <td>5.550000</td>\n",
                            "      <td>2.00000</td>\n",
                            "    </tr>\n",
                            "    <tr>\n",
                            "      <th>75%</th>\n",
                            "      <td>6.90000</td>\n",
                            "      <td>3.175000</td>\n",
                            "      <td>5.875000</td>\n",
                            "      <td>2.30000</td>\n",
                            "    </tr>\n",
                            "    <tr>\n",
                            "      <th>max</th>\n",
                            "      <td>7.90000</td>\n",
                            "      <td>3.800000</td>\n",
                            "      <td>6.900000</td>\n",
                            "      <td>2.50000</td>\n",
                            "    </tr>\n",
                            "  </tbody>\n",
                            "</table>\n",
                            "</div>"
                        ],
                        "text/plain": [
                            "       ComprimentoS   LarguraS  ComprimentoP  LarguraP\n",
                            "count      50.00000  50.000000     50.000000  50.00000\n",
                            "mean        6.58800   2.974000      5.552000   2.02600\n",
                            "std         0.63588   0.322497      0.551895   0.27465\n",
                            "min         4.90000   2.200000      4.500000   1.40000\n",
                            "25%         6.22500   2.800000      5.100000   1.80000\n",
                            "50%         6.50000   3.000000      5.550000   2.00000\n",
                            "75%         6.90000   3.175000      5.875000   2.30000\n",
                            "max         7.90000   3.800000      6.900000   2.50000"
                        ]
                    },
                    "execution_count": 6,
                    "metadata": {},
                    "output_type": "execute_result"
                }
            ],
            "source": [
                "viy = y.loc[y[\"Especie\"]==\"virginica\"]\n",
                "tabela2 = viy.describe()\n",
                "tabela2"
            ]
        },
        {
            "cell_type": "code",
            "execution_count": 7,
            "metadata": {},
            "outputs": [
                {
                    "data": {
                        "text/html": [
                            "<div>\n",
                            "<style scoped>\n",
                            "    .dataframe tbody tr th:only-of-type {\n",
                            "        vertical-align: middle;\n",
                            "    }\n",
                            "\n",
                            "    .dataframe tbody tr th {\n",
                            "        vertical-align: top;\n",
                            "    }\n",
                            "\n",
                            "    .dataframe thead th {\n",
                            "        text-align: right;\n",
                            "    }\n",
                            "</style>\n",
                            "<table border=\"1\" class=\"dataframe\">\n",
                            "  <thead>\n",
                            "    <tr style=\"text-align: right;\">\n",
                            "      <th></th>\n",
                            "      <th>ComprimentoS</th>\n",
                            "      <th>LarguraS</th>\n",
                            "      <th>ComprimentoP</th>\n",
                            "      <th>LarguraP</th>\n",
                            "    </tr>\n",
                            "  </thead>\n",
                            "  <tbody>\n",
                            "    <tr>\n",
                            "      <th>count</th>\n",
                            "      <td>50.000000</td>\n",
                            "      <td>50.000000</td>\n",
                            "      <td>50.000000</td>\n",
                            "      <td>50.000000</td>\n",
                            "    </tr>\n",
                            "    <tr>\n",
                            "      <th>mean</th>\n",
                            "      <td>5.936000</td>\n",
                            "      <td>2.770000</td>\n",
                            "      <td>4.260000</td>\n",
                            "      <td>1.326000</td>\n",
                            "    </tr>\n",
                            "    <tr>\n",
                            "      <th>std</th>\n",
                            "      <td>0.516171</td>\n",
                            "      <td>0.313798</td>\n",
                            "      <td>0.469911</td>\n",
                            "      <td>0.197753</td>\n",
                            "    </tr>\n",
                            "    <tr>\n",
                            "      <th>min</th>\n",
                            "      <td>4.900000</td>\n",
                            "      <td>2.000000</td>\n",
                            "      <td>3.000000</td>\n",
                            "      <td>1.000000</td>\n",
                            "    </tr>\n",
                            "    <tr>\n",
                            "      <th>25%</th>\n",
                            "      <td>5.600000</td>\n",
                            "      <td>2.525000</td>\n",
                            "      <td>4.000000</td>\n",
                            "      <td>1.200000</td>\n",
                            "    </tr>\n",
                            "    <tr>\n",
                            "      <th>50%</th>\n",
                            "      <td>5.900000</td>\n",
                            "      <td>2.800000</td>\n",
                            "      <td>4.350000</td>\n",
                            "      <td>1.300000</td>\n",
                            "    </tr>\n",
                            "    <tr>\n",
                            "      <th>75%</th>\n",
                            "      <td>6.300000</td>\n",
                            "      <td>3.000000</td>\n",
                            "      <td>4.600000</td>\n",
                            "      <td>1.500000</td>\n",
                            "    </tr>\n",
                            "    <tr>\n",
                            "      <th>max</th>\n",
                            "      <td>7.000000</td>\n",
                            "      <td>3.400000</td>\n",
                            "      <td>5.100000</td>\n",
                            "      <td>1.800000</td>\n",
                            "    </tr>\n",
                            "  </tbody>\n",
                            "</table>\n",
                            "</div>"
                        ],
                        "text/plain": [
                            "       ComprimentoS   LarguraS  ComprimentoP   LarguraP\n",
                            "count     50.000000  50.000000     50.000000  50.000000\n",
                            "mean       5.936000   2.770000      4.260000   1.326000\n",
                            "std        0.516171   0.313798      0.469911   0.197753\n",
                            "min        4.900000   2.000000      3.000000   1.000000\n",
                            "25%        5.600000   2.525000      4.000000   1.200000\n",
                            "50%        5.900000   2.800000      4.350000   1.300000\n",
                            "75%        6.300000   3.000000      4.600000   1.500000\n",
                            "max        7.000000   3.400000      5.100000   1.800000"
                        ]
                    },
                    "execution_count": 7,
                    "metadata": {},
                    "output_type": "execute_result"
                }
            ],
            "source": [
                "vey = y.loc[y[\"Especie\"]==\"versicolor\"]\n",
                "tabela3 = vey.describe()\n",
                "tabela3"
            ]
        },
        {
            "cell_type": "code",
            "execution_count": 8,
            "metadata": {},
            "outputs": [
                {
                    "data": {
                        "text/plain": [
                            "<BarContainer object of 3 artists>"
                        ]
                    },
                    "execution_count": 8,
                    "metadata": {},
                    "output_type": "execute_result"
                },
                {
                    "data": {
                        "image/png": "[encoded data removed]",
                        "text/plain": [
                            "<Figure size 432x288 with 1 Axes>"
                        ]
                    },
                    "metadata": {
                        "needs_background": "light"
                    },
                    "output_type": "display_data"
                }
            ],
            "source": [
                "a = [\"Setosa\", \"Virginica\", \"Versicolor\"]\n",
                "b = [5.006, 6.58, 5.936]\n",
                "plt.bar(a,b, color='green')"
            ]
        },
        {
            "cell_type": "code",
            "execution_count": 9,
            "metadata": {},
            "outputs": [
                {
                    "data": {
                        "text/plain": [
                            "<BarContainer object of 3 artists>"
                        ]
                    },
                    "execution_count": 9,
                    "metadata": {},
                    "output_type": "execute_result"
                },
                {
                    "data": {
                        "image/png": "[encoded data removed]",
                        "text/plain": [
                            "<Figure size 432x288 with 1 Axes>"
                        ]
                    },
                    "metadata": {
                        "needs_background": "light"
                    },
                    "output_type": "display_data"
                }
            ],
            "source": [
                "a = [\"Setosa\", \"Virginica\", \"Versicolor\"]\n",
                "b = [3.428, 2.974, 2.77]\n",
                "plt.bar(a,b, color='red')"
            ]
        },
        {
            "cell_type": "code",
            "execution_count": 10,
            "metadata": {},
            "outputs": [
                {
                    "data": {
                        "text/plain": [
                            "<BarContainer object of 3 artists>"
                        ]
                    },
                    "execution_count": 10,
                    "metadata": {},
                    "output_type": "execute_result"
                },
                {
                    "data": {
                        "image/png": "[encoded data removed]",
                        "text/plain": [
                            "<Figure size 432x288 with 1 Axes>"
                        ]
                    },
                    "metadata": {
                        "needs_background": "light"
                    },
                    "output_type": "display_data"
                }
            ],
            "source": [
                "a = [\"Setosa\", \"Virginica\", \"Versicolor\"]\n",
                "b = [1.462, 5.552, 4.26]\n",
                "plt.bar(a,b, color='orange')"
            ]
        },
        {
            "cell_type": "code",
            "execution_count": 11,
            "metadata": {},
            "outputs": [
                {
                    "data": {
                        "text/plain": [
                            "<BarContainer object of 3 artists>"
                        ]
                    },
                    "execution_count": 11,
                    "metadata": {},
                    "output_type": "execute_result"
                },
                {
                    "data": {
                        "image/png": "[encoded data removed]",
                        "text/plain": [
                            "<Figure size 432x288 with 1 Axes>"
                        ]
                    },
                    "metadata": {
                        "needs_background": "light"
                    },
                    "output_type": "display_data"
                }
            ],
            "source": [
                "a = [\"Setosa\", \"Virginica\", \"Versicolor\"]\n",
                "b = [0.246, 2.026, 1.326]\n",
                "plt.bar(a,b, color='blue')"
            ]
        },
        {
            "cell_type": "code",
            "execution_count": 12,
            "metadata": {},
            "outputs": [
                {
                    "data": {
                        "text/plain": [
                            "<matplotlib.collections.PathCollection at 0x189ab2ae760>"
                        ]
                    },
                    "execution_count": 12,
                    "metadata": {},
                    "output_type": "execute_result"
                },
                {
                    "data": {
                        "image/png": "[encoded data removed]",
                        "text/plain": [
                            "<Figure size 432x288 with 1 Axes>"
                        ]
                    },
                    "metadata": {
                        "needs_background": "light"
                    },
                    "output_type": "display_data"
                }
            ],
            "source": [
                "A = sy[\"ComprimentoP\"]\n",
                "B = sy[\"LarguraP\"]\n",
                "plt.scatter(A,B)"
            ]
        },
        {
            "cell_type": "code",
            "execution_count": 13,
            "metadata": {},
            "outputs": [
                {
                    "data": {
                        "text/plain": [
                            "<matplotlib.collections.PathCollection at 0x189ab3198b0>"
                        ]
                    },
                    "execution_count": 13,
                    "metadata": {},
                    "output_type": "execute_result"
                },
                {
                    "data": {
                        "image/png": "[encoded data removed]",
                        "text/plain": [
                            "<Figure size 432x288 with 1 Axes>"
                        ]
                    },
                    "metadata": {
                        "needs_background": "light"
                    },
                    "output_type": "display_data"
                }
            ],
            "source": [
                "A = viy[\"ComprimentoP\"]\n",
                "B = viy[\"LarguraP\"]\n",
                "plt.scatter(A,B)"
            ]
        },
        {
            "cell_type": "code",
            "execution_count": 14,
            "metadata": {},
            "outputs": [
                {
                    "data": {
                        "text/plain": [
                            "<matplotlib.collections.PathCollection at 0x189ab37de80>"
                        ]
                    },
                    "execution_count": 14,
                    "metadata": {},
                    "output_type": "execute_result"
                },
                {
                    "data": {
                        "image/png": "[encoded data removed]",
                        "text/plain": [
                            "<Figure size 432x288 with 1 Axes>"
                        ]
                    },
                    "metadata": {
                        "needs_background": "light"
                    },
                    "output_type": "display_data"
                }
            ],
            "source": [
                "A = vey[\"ComprimentoP\"]\n",
                "B = vey[\"LarguraP\"]\n",
                "plt.scatter(A,B)"
            ]
        }
    ],
    "metadata": {
        "interpreter": {
            "hash": "34d6f4a070b179bd8a4f2b87f5137d651d2be5964446cdbf4267e121d7bbca6f"
        },
        "kernelspec": {
            "display_name": "Python 3.9.2 64-bit",
            "name": "python3"
        },
        "language_info": {
            "codemirror_mode": {
                "name": "ipython",
                "version": 3
            },
            "file_extension": ".py",
            "mimetype": "text/x-python",
            "name": "python",
            "nbconvert_exporter": "python",
            "pygments_lexer": "ipython3",
            "version": "3.9.2"
        },
        "orig_nbformat": 4
    },
    "nbformat": 4,
    "nbformat_minor": 2
}
